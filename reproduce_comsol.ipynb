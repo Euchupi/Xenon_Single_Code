{
 "cells": [
  {
   "cell_type": "code",
   "execution_count": 451,
   "id": "755cbea1-e40b-467d-bf18-341ccb5507b5",
   "metadata": {},
   "outputs": [],
   "source": [
    "from matplotlib import pyplot as plt \n",
    "import numpy as np \n",
    "import scipy as sp\n",
    "import mph"
   ]
  },
  {
   "cell_type": "markdown",
   "id": "fd8fe1d8-4d74-4b50-b06c-4d35d8bbb071",
   "metadata": {},
   "source": [
    "Code here is to Modify the parameters and Output the streamline and electric field automatically."
   ]
  },
  {
   "cell_type": "code",
   "execution_count": 452,
   "id": "6829001a-27eb-4355-9f6c-d60b55617e65",
   "metadata": {},
   "outputs": [],
   "source": [
    "client=mph.start(cores=3)"
   ]
  },
  {
   "cell_type": "code",
   "execution_count": 453,
   "id": "71375081-c3f9-40ea-ad6a-dd7008003226",
   "metadata": {},
   "outputs": [
    {
     "name": "stdout",
     "output_type": "stream",
     "text": [
      "client names  :['reproduce']\n",
      "client models :[Model('reproduce')]\n"
     ]
    }
   ],
   "source": [
    "model= client.load(\"reproduce.mph\")\n",
    "print(\"client names  :{}\".format(client.names() ))\n",
    "print(\"client models :{}\".format(client.models()))"
   ]
  },
  {
   "cell_type": "code",
   "execution_count": 454,
   "id": "d1d9b82e-dd00-4b13-8e59-99e0410e5cc0",
   "metadata": {},
   "outputs": [],
   "source": [
    "base_dir=\"K:\\Comsol/reproduce\""
   ]
  },
  {
   "cell_type": "markdown",
   "id": "3b3e2214-daee-4b94-b5f1-557b514e067e",
   "metadata": {},
   "source": [
    "## Parameter Modifications"
   ]
  },
  {
   "cell_type": "code",
   "execution_count": 455,
   "id": "2eb9b885-4d6b-4c98-91a5-5749cdcfc58a",
   "metadata": {},
   "outputs": [
    {
     "name": "stdout",
     "output_type": "stream",
     "text": [
      "                     up_radius = 5[um]\n",
      "                     down_radius = 5[um]\n",
      "                     anode_radius = 9.5[um]\n",
      "                     up_distance = 3[mm]\n",
      "                     down_distance = 3[mm]\n",
      "                     vertical_distance = 3[mm]\n",
      "                     up_stagger_distance = 0[mm]\n",
      "                     down_stagger_distance = 0[mm]\n",
      "                     drift_length = 40[mm]\n",
      "                     number = 8\n",
      "                     up_voltage = 0[V]\n",
      "                     anode_voltage = 9400[V]\n",
      "                     down_voltage = 0[V]\n",
      "                     cathode_voltage = 100[V]\n",
      "                     drift_ratio = 1\n",
      "                     cathode_distance = 10[mm]\n",
      "                     cathode_height = 1[mm]\n"
     ]
    }
   ],
   "source": [
    "# Load Original Parameter\n",
    "for (name, value) in model.parameters().items():\n",
    "    description = model.description(name)\n",
    "    print(f'{description:20} {name} = {value}')"
   ]
  },
  {
   "cell_type": "code",
   "execution_count": 456,
   "id": "3435bd5a-d21b-462b-8c43-6b9f9bf89048",
   "metadata": {},
   "outputs": [],
   "source": [
    "# Parameter modification: Stagger\n",
    "anode_radius=9.0\n",
    "anode_voltage=9400\n",
    "up_stagger_distance=0\n",
    "down_stagger_distance=0\n",
    "down_voltage=0\n",
    "shield_radius=5\n",
    "\n",
    "model.parameter(\"drift_ratio\",1)\n",
    "model.parameter(\"anode_radius\",\"{}[um]\".format(anode_radius))\n",
    "model.parameter(\"anode_voltage\",\"{}[V]\".format(anode_voltage))\n",
    "model.parameter(\"up_stagger_distance\",\"{}[mm]\".format(up_stagger_distance))\n",
    "model.parameter(\"down_stagger_distance\",\"{}[mm]\".format(down_stagger_distance))\n",
    "\n",
    "model.parameter(\"down_voltage\",\"{}[V]\".format(down_voltage))\n",
    "model.parameter(\"cathode_voltage\",\"{}[V]\".format(down_voltage+100))\n",
    "model.parameter(\"drift_ratio\",\"{}\".format(1))\n",
    "\n",
    "model.parameter(\"up_radius\",\"{}[um]\".format(shield_radius))\n",
    "model.parameter(\"down_radius\",\"{}[um]\".format(shield_radius))"
   ]
  },
  {
   "cell_type": "code",
   "execution_count": 457,
   "id": "fd9b3e93-8766-494f-a629-cc255be1b88d",
   "metadata": {},
   "outputs": [
    {
     "name": "stdout",
     "output_type": "stream",
     "text": [
      "                     up_radius = 5[um]\n",
      "                     down_radius = 5[um]\n",
      "                     anode_radius = 9.0[um]\n",
      "                     up_distance = 3[mm]\n",
      "                     down_distance = 3[mm]\n",
      "                     vertical_distance = 3[mm]\n",
      "                     up_stagger_distance = 0[mm]\n",
      "                     down_stagger_distance = 0[mm]\n",
      "                     drift_length = 40[mm]\n",
      "                     number = 8\n",
      "                     up_voltage = 0[V]\n",
      "                     anode_voltage = 9400[V]\n",
      "                     down_voltage = 0[V]\n",
      "                     cathode_voltage = 100[V]\n",
      "                     drift_ratio = 1\n",
      "                     cathode_distance = 10[mm]\n",
      "                     cathode_height = 1[mm]\n"
     ]
    }
   ],
   "source": [
    "# Check Parameter\n",
    "for (name, value) in model.parameters().items():\n",
    "    description = model.description(name)\n",
    "    print(f'{description:20} {name} = {value}')"
   ]
  },
  {
   "cell_type": "markdown",
   "id": "ee77ce82-5ef0-4cc8-bd1b-d6ec3301e8e4",
   "metadata": {},
   "source": [
    "### Check Material"
   ]
  },
  {
   "cell_type": "code",
   "execution_count": 458,
   "id": "15acb626-a833-4765-b6db-96b38a465e4b",
   "metadata": {},
   "outputs": [
    {
     "name": "stdout",
     "output_type": "stream",
     "text": [
      "model material: ['Copper [solid,residual resistivity ratio of 3000]', 'Xenon [liquid]']\n",
      "model physics : ['Electrostatics']\n",
      "model studies : ['Study 1']\n"
     ]
    }
   ],
   "source": [
    "# model basic information\n",
    "print(\"model material: {}\".format(model.materials()))\n",
    "print(\"model physics : {}\".format(model.physics()))\n",
    "print(\"model studies : {}\".format(model.studies()))"
   ]
  },
  {
   "cell_type": "markdown",
   "id": "8eecd261-3b5b-4195-a16a-1793446ec4e3",
   "metadata": {},
   "source": [
    "## Comsol Simulation "
   ]
  },
  {
   "cell_type": "code",
   "execution_count": 459,
   "id": "8137af70-262f-4eb2-a51e-a0385eda607f",
   "metadata": {},
   "outputs": [
    {
     "data": {
      "text/plain": [
       "['Study 1']"
      ]
     },
     "execution_count": 459,
     "metadata": {},
     "output_type": "execute_result"
    }
   ],
   "source": [
    "# Check study list\n",
    "model.studies()"
   ]
  },
  {
   "cell_type": "code",
   "execution_count": 460,
   "id": "7d7929c9-ea88-4a06-b19e-155ce5ca17ae",
   "metadata": {},
   "outputs": [
    {
     "data": {
      "text/plain": [
       "['Study 1//Solution 1']"
      ]
     },
     "execution_count": 460,
     "metadata": {},
     "output_type": "execute_result"
    }
   ],
   "source": [
    "# The calculation are done within the Comsol software itself , we usually does not use it .\n",
    "\n",
    "# Geometry\n",
    "model.geometries()\n",
    "model.build()\n",
    "\n",
    "# Mesh \n",
    "model.mesh()\n",
    "\n",
    "# Solution\n",
    "model.solve(model.studies()[0])\n",
    "\n",
    "# Dataset\n",
    "model.datasets()"
   ]
  },
  {
   "cell_type": "code",
   "execution_count": 461,
   "id": "ef51a10f-4a5d-47f2-9328-1ac38b081a6c",
   "metadata": {},
   "outputs": [
    {
     "data": {
      "text/plain": [
       "['field', 'streamline']"
      ]
     },
     "execution_count": 461,
     "metadata": {},
     "output_type": "execute_result"
    }
   ],
   "source": [
    "model.exports()"
   ]
  },
  {
   "cell_type": "markdown",
   "id": "eebf547f-5c8f-4f43-b461-7a8903dfbfe5",
   "metadata": {},
   "source": [
    "## Export electric field"
   ]
  },
  {
   "cell_type": "code",
   "execution_count": 462,
   "id": "9cc1db14-1da1-4d23-926b-07a05fa51661",
   "metadata": {},
   "outputs": [],
   "source": [
    "# field files : raw field txt file , converted h5 file\n",
    "model.export(\"field\",r\"{}/field.txt\".format(base_dir))"
   ]
  },
  {
   "cell_type": "code",
   "execution_count": 463,
   "id": "0e5798fb-300f-4de0-b3ce-37fdfb6dc2ad",
   "metadata": {},
   "outputs": [],
   "source": [
    "with open(r\"{}/field.txt\".format(base_dir),\"r\",encoding=\"utf8\") as f:\n",
    "    i=0\n",
    "    length_u=\"\"\n",
    "    electric_x_u=\"\"\n",
    "    electric_y_u=\"\"\n",
    "    dimension=2\n",
    "    while True :\n",
    "        line=f.readline()\n",
    "        if not line :\n",
    "            break \n",
    "        if i==3 : \n",
    "            line_list= [x.strip() for x in line.split(\" \") if x!=\"\"]\n",
    "            dimension= int(line_list[2])\n",
    "        elif i==7 :\n",
    "            line_list= [x.strip() for x in line.split(\" \") if x!=\"\"]\n",
    "            length_u= line_list[3]\n",
    "        elif i==8 : \n",
    "            line_list= [x.strip() for x in line.split(\" \") if x!=\"\"]\n",
    "            electric_x_u = line_list[4]\n",
    "            electric_y_u = line_list[6]\n",
    "            info=f.readlines()\n",
    "            break\n",
    "        i=i+1\n",
    "\n",
    "for i in range(len(info)):\n",
    "    info[i]= info[i].split()\n",
    "info=np.array(info).astype(float)\n",
    "info=info.T\n",
    "\n",
    "if length_u==\"µm\":\n",
    "    length_u_n=1e-6\n",
    "elif length_u==\"um\":\n",
    "    length_u_n=1e-6\n",
    "elif length_u==\"nm\":\n",
    "    length_u_n=1e-9\n",
    "elif length_u=='mm':\n",
    "    length_u_n=1e-3\n",
    "elif length_u=='m':\n",
    "    length_u_n=1\n",
    "else :\n",
    "    print(\"Warning!! Unrecognized unit of length_u\")"
   ]
  },
  {
   "cell_type": "code",
   "execution_count": 464,
   "id": "516b56f4-c9ea-4f3b-97bf-57e69d7d3ee1",
   "metadata": {},
   "outputs": [],
   "source": [
    "import h5py as h5 \n",
    "h5f= h5.File(r\"{}/singlecell4.h5\".format(base_dir),\"w\")\n",
    "h5f.create_dataset(\"info\",data=info)\n",
    "h5f.close()"
   ]
  },
  {
   "cell_type": "markdown",
   "id": "5da58b28-eda3-45b2-a3f8-8d1b28c28216",
   "metadata": {},
   "source": [
    "## Export Streamline"
   ]
  },
  {
   "cell_type": "code",
   "execution_count": 465,
   "id": "59f3a58e-a511-4c1e-be5c-5945eba0ce9c",
   "metadata": {},
   "outputs": [],
   "source": [
    "# export the fieldlines ans save it within a single txt file \n",
    "model.export(\"streamline\",r\"{}/streamline.txt\".format(base_dir))"
   ]
  },
  {
   "cell_type": "code",
   "execution_count": 466,
   "id": "e73e43e6-5d33-43af-9e36-7f6159bb591b",
   "metadata": {},
   "outputs": [],
   "source": [
    "# convert the field lines file into a h5 file \n",
    "with open(r\"{}/streamline.txt\".format(base_dir),\"r\") as f: \n",
    "    for i in range(8) : \n",
    "        f.readline()\n",
    "    stream = f.readlines()\n",
    "    \n",
    "for i in range(len(stream)):\n",
    "    stream[i]= stream[i].split()\n",
    "stream=np.array(stream).astype(float)\n",
    "stream=stream.T  "
   ]
  },
  {
   "cell_type": "code",
   "execution_count": 467,
   "id": "d976a062-bc05-4568-b5a4-403bcc30ac7a",
   "metadata": {},
   "outputs": [],
   "source": [
    "import h5py as h5 \n",
    "h5f= h5.File(r\"{}\\singlecell_stream.h5\".format(base_dir),\"w\")\n",
    "h5f.create_dataset(\"stream\",data=stream)\n",
    "h5f.close()"
   ]
  },
  {
   "cell_type": "markdown",
   "id": "b4461f17-4081-442f-b9dc-9ac9c5de3cf0",
   "metadata": {},
   "source": [
    "## Export Parameters"
   ]
  },
  {
   "cell_type": "code",
   "execution_count": 468,
   "id": "9ac22ab5-1494-44a3-99c6-02c7711e1385",
   "metadata": {},
   "outputs": [],
   "source": [
    "# Log all the parameters and export it to a txt file \n",
    "parameter=model.parameters()\n",
    "parameter['length_u']=length_u_n\n",
    "parameter['electric_x_u']= electric_x_u\n",
    "parameter['electric_y_u']= electric_y_u\n",
    "parameter['dimension']=dimension\n",
    "parameter['stream_number']=int(stream[2].max()+1)\n",
    "\n",
    "with open(r\"{}/parameter.txt\".format(base_dir),\"w\") as f : \n",
    "    f.write(str(parameter))"
   ]
  },
  {
   "cell_type": "markdown",
   "id": "24ac334a-9337-4091-9141-3316dd962ae2",
   "metadata": {},
   "source": [
    "# Clear the client models "
   ]
  },
  {
   "cell_type": "code",
   "execution_count": 469,
   "id": "5fb6e7a0-7e3c-49f9-b230-fdb161770ff7",
   "metadata": {},
   "outputs": [],
   "source": [
    "model.save()"
   ]
  },
  {
   "cell_type": "code",
   "execution_count": 470,
   "id": "460599f9-86d8-404a-8c20-95043d0072d5",
   "metadata": {},
   "outputs": [
    {
     "name": "stdout",
     "output_type": "stream",
     "text": [
      "[]\n"
     ]
    }
   ],
   "source": [
    "client.clear()\n",
    "print(client.names())"
   ]
  },
  {
   "cell_type": "code",
   "execution_count": null,
   "id": "c6baf31f-b565-4923-8b61-5ef840abf287",
   "metadata": {},
   "outputs": [],
   "source": []
  },
  {
   "cell_type": "code",
   "execution_count": null,
   "id": "36689e48-78fd-41ee-87c0-3b4fd8a9c49c",
   "metadata": {},
   "outputs": [],
   "source": []
  },
  {
   "cell_type": "code",
   "execution_count": null,
   "id": "79b875f2-1a4b-40a2-a20d-bcd85f749b2b",
   "metadata": {},
   "outputs": [],
   "source": []
  },
  {
   "cell_type": "code",
   "execution_count": null,
   "id": "d32fc4c4-a7c9-44cc-9cd3-e982b1790ba3",
   "metadata": {},
   "outputs": [],
   "source": []
  },
  {
   "cell_type": "code",
   "execution_count": null,
   "id": "f1f2f76f-9d30-44f6-9afe-70828a36cbb4",
   "metadata": {},
   "outputs": [],
   "source": []
  }
 ],
 "metadata": {
  "kernelspec": {
   "display_name": "Python 3 (ipykernel)",
   "language": "python",
   "name": "python3"
  },
  "language_info": {
   "codemirror_mode": {
    "name": "ipython",
    "version": 3
   },
   "file_extension": ".py",
   "mimetype": "text/x-python",
   "name": "python",
   "nbconvert_exporter": "python",
   "pygments_lexer": "ipython3",
   "version": "3.9.13"
  }
 },
 "nbformat": 4,
 "nbformat_minor": 5
}
