{
 "cells": [
  {
   "cell_type": "code",
   "execution_count": 419,
   "id": "197ff3c4-478a-43fb-ab4e-41a5794a16db",
   "metadata": {},
   "outputs": [],
   "source": [
    "import h5py\n",
    "from matplotlib import pyplot as plt \n",
    "import numpy \n",
    "import numpy as np \n",
    "import scipy \n",
    "import ast\n",
    "import threading\n",
    "from multiprocessing import  Process \n",
    "import time\n",
    "import random\n",
    "from multiprocessing import Queue\n",
    "import os "
   ]
  },
  {
   "cell_type": "code",
   "execution_count": 420,
   "id": "5e0a64d8-7ef3-4199-8d99-442b8580828a",
   "metadata": {},
   "outputs": [],
   "source": [
    "# The default length unit is always um \n",
    "minimum_step=0.001\n",
    "minimum_stream_step=0.001"
   ]
  },
  {
   "cell_type": "markdown",
   "id": "c8a99814-2d56-4986-a252-8bb82a531435",
   "metadata": {},
   "source": [
    "## Basic Parameters"
   ]
  },
  {
   "cell_type": "code",
   "execution_count": 421,
   "id": "b9135911-36ce-4d7c-812e-4d235bcc24fd",
   "metadata": {},
   "outputs": [],
   "source": [
    "# Open the parameter text file \n",
    "with open(\"parameter.txt\",\"r\") as f : \n",
    "    parameter=ast.literal_eval(f.read())\n",
    "\n",
    "parameter['minimum_step']= \"{}[um]\".format(minimum_step)\n",
    "parameter['minimum_stream_step']= \"{}[um]\".format(minimum_stream_step)"
   ]
  },
  {
   "cell_type": "code",
   "execution_count": 422,
   "id": "41fe727b-56ae-489c-a758-6040dd4f0e72",
   "metadata": {},
   "outputs": [
    {
     "name": "stdout",
     "output_type": "stream",
     "text": [
      "Length Unit: 1 m\n"
     ]
    }
   ],
   "source": [
    "# Geometry Scale\n",
    "print(\"Length Unit: {} m\".format(parameter['length_u']) )\n",
    "scale=parameter['length_u']*1e6\n",
    "# Default length unit is um "
   ]
  },
  {
   "cell_type": "markdown",
   "id": "4a2921e5-8176-46f6-b9dc-88a5cfa2815c",
   "metadata": {},
   "source": [
    "## Electric field "
   ]
  },
  {
   "cell_type": "code",
   "execution_count": 423,
   "id": "def10005-05a5-4f22-937a-16d73f7d91f3",
   "metadata": {
    "tags": []
   },
   "outputs": [],
   "source": [
    "# Get the electric field from the h5 file \n",
    "h5f= h5py.File(\"singlecell4.h5\",\"r\")\n",
    "info=np.array(h5f[\"info\"])\n",
    "h5f.close()"
   ]
  },
  {
   "cell_type": "markdown",
   "id": "e97fbaf5-1c2d-4862-8c9f-1a028d552881",
   "metadata": {},
   "source": [
    "### Re-Scale the coordinate;"
   ]
  },
  {
   "cell_type": "code",
   "execution_count": 424,
   "id": "71133205-49cb-4e7d-a475-4503d5fcdd8e",
   "metadata": {},
   "outputs": [],
   "source": [
    "info[0]=info[0]*scale\n",
    "info[1]=info[1]*scale"
   ]
  },
  {
   "cell_type": "markdown",
   "id": "12147d04-1162-46ee-85ca-a0cb8db76857",
   "metadata": {},
   "source": [
    "## Streamline"
   ]
  },
  {
   "cell_type": "code",
   "execution_count": 425,
   "id": "d34a7ef2-da59-4fb4-a9e0-1e150dd667a4",
   "metadata": {},
   "outputs": [],
   "source": [
    "# Get the electric streamline from the processed h5 file .\n",
    "h5f= h5py.File(\"singlecell_stream.h5\",\"r\")\n",
    "stream=np.array(h5f[\"stream\"])\n",
    "h5f.close()"
   ]
  },
  {
   "cell_type": "markdown",
   "id": "6af16216-2e48-44ac-875f-ef1a621e64c6",
   "metadata": {},
   "source": [
    "### Re-Scale the coordinate"
   ]
  },
  {
   "cell_type": "code",
   "execution_count": 426,
   "id": "fe1d6f0d-72c5-417d-82c0-cccfe02fa0ae",
   "metadata": {},
   "outputs": [],
   "source": [
    "stream[0]=stream[0]*scale\n",
    "stream[1]=stream[1]*scale"
   ]
  },
  {
   "cell_type": "code",
   "execution_count": 427,
   "id": "ed1f4241-ce15-4ec4-944d-de842e23d2ce",
   "metadata": {},
   "outputs": [
    {
     "data": {
      "text/plain": [
       "8"
      ]
     },
     "execution_count": 427,
     "metadata": {},
     "output_type": "execute_result"
    }
   ],
   "source": [
    "int(parameter['number'])"
   ]
  },
  {
   "cell_type": "code",
   "execution_count": 428,
   "id": "a594be12-b99c-4b9e-ae03-08943dd5c666",
   "metadata": {},
   "outputs": [
    {
     "data": {
      "text/plain": [
       "22500.0"
      ]
     },
     "execution_count": 428,
     "metadata": {},
     "output_type": "execute_result"
    }
   ],
   "source": [
    "info[0].max()"
   ]
  },
  {
   "cell_type": "markdown",
   "id": "a01b581d-820a-4312-bcd1-e5c8f5c05d9e",
   "metadata": {},
   "source": [
    "# Electron Movement"
   ]
  },
  {
   "cell_type": "code",
   "execution_count": 429,
   "id": "09524bc2-7f93-447e-98a7-104d29b0274c",
   "metadata": {},
   "outputs": [],
   "source": [
    "class single_electron():\n",
    "    def __init__ (self,info,parameter,stream,):  \n",
    "        # the basic huge information of the particle \n",
    "        self.info=info\n",
    "        self.parameter=parameter\n",
    "        self.stream=stream \n",
    "        \n",
    "        self.position_init()\n",
    "        # sx is to log the history of the particle \n",
    "        self.sx=np.array([])\n",
    "        self.sy=np.array([])\n",
    "        self.sm=np.array([])\n",
    "        self.se=np.array([])\n",
    "        self.sEx=np.array([])\n",
    "        self.sEy=np.array([])\n",
    "\n",
    "        # the basic information about the stream \n",
    "        self.stream_N=0\n",
    "        self.arg=0\n",
    "        self.local_stream= self.stream[0:2,self.stream[2]==self.stream_N]\n",
    "        self.step_length =1 \n",
    "        self.status=\"\"\n",
    "        self.stream_within=1\n",
    "    \n",
    "    def scale_convert(self,length_u):\n",
    "        if length_u==\"µm\":\n",
    "            result=1e-6\n",
    "        elif length_u==\"um\":\n",
    "            result=1e-6\n",
    "        elif length_u==\"nm\":\n",
    "            result=1e-9\n",
    "        elif length_u=='mm':\n",
    "            result=1e-3\n",
    "        elif length_u=='m':\n",
    "            result=1\n",
    "        else :\n",
    "            print(\"Warning!! Unrecognized unit of length_u\")\n",
    "        return result\n",
    "    \n",
    "    def parameter_get(self,tar_para):\n",
    "        # Our basic length unit is um \n",
    "        length_u= self.parameter[tar_para].split(\"[\")[1].split(\"]\")[0]\n",
    "        length_u_n = self.scale_convert(length_u)\n",
    "        result= float(self.parameter[tar_para].split(\"[\")[0]) * length_u_n * 1e6\n",
    "        return result        \n",
    "    \n",
    "    def position_init(self) :\n",
    "        simul_n=2\n",
    "        self.x = 0.5*(info[0].max()+info[0].min()) \\\n",
    "                + simul_n* self.parameter_get(\"vertical_distance\")* (random.random()-0.5)\n",
    "        self.y= 0.5*info[1].max()\n",
    "        self.multiply = 0  # we have no photon gain at first. \n",
    "        self.electron_N =1 # we have one electron at first .\n",
    "        self.step_count =0 \n",
    "        self.vy= -1 \n",
    "        self.vx= 0\n",
    "        self.Ex =0 \n",
    "        self.Ey =0 \n",
    "    \n",
    "    # check the stream line that we will use according to the initial position .\n",
    "    def get_stream(self) : \n",
    "        stream_err = (stream[0]-self.x)**2 + (stream[1]-self.y)**2\n",
    "        self.stream_N = stream[2][stream_err.argmin()]    \n",
    "    def stream_check(self) : \n",
    "        # It is typically that the stream will not end in the multiplier , but that is OK .. \n",
    "        # But if the end of the stream line is about 10 times larger than the multiple height , there should be something wrong with it \n",
    "        while float(self.stream[1][self.stream[2]==self.stream_N].min()) > 10*self.parameter_get(\"anode_radius\") :\n",
    "            print(\"Stream line too short , rechoose it \\n\")\n",
    "            self.position_init()\n",
    "            self.get_stream() \n",
    "        #print(\"Electric Stream : {}\".format(self.stream_N))\n",
    "        self.local_stream= self.stream[0:2,self.stream[2]==self.stream_N]\n",
    "        self.local_stream[0]= np.flip(self.local_stream[0])\n",
    "        self.local_stream[1]= np.flip(self.local_stream[1])\n",
    "    \n",
    "    \n",
    "    def check_stop(self):\n",
    "        wire_num=int(self.parameter[\"number\"])\n",
    "        vertical_distance= self.parameter_get(\"vertical_distance\")\n",
    "        anode_radius= self.parameter_get(\"anode_radius\")\n",
    "        for i in range(wire_num):\n",
    "            if (self.x- vertical_distance*i)**2 + (self.y-0)**2 < anode_radius**2:\n",
    "                return 1 \n",
    "        if self.y<- self.parameter_get(\"down_distance\") : \n",
    "            return 2 \n",
    "        return 0 \n",
    "        \n",
    "        \n",
    "    def get_direction_length(self): \n",
    "        if self.arg < len(self.local_stream[1]):\n",
    "            if self.y>0 :\n",
    "                # Select nearest point from the downwards points\n",
    "                stream_now= self.local_stream[:,np.where(self.local_stream[1]<self.y)[0]]\n",
    "                err= (stream_now[0]-self.x)**2  + (stream_now[1]-self.y)**2 \n",
    "                tar_arg= err.argmin()\n",
    "                \n",
    "                # generate the arg \n",
    "                self.arg=np.where(self.local_stream[1]<self.y)[0].min()\n",
    "                \n",
    "                try :\n",
    "                    base_len = np.sqrt((self.local_stream[1][self.arg]- self.local_stream[1][self.arg-1])**2+ \\\n",
    "                                       (self.local_stream[0][self.arg]- self.local_stream[0][self.arg-1])**2)\n",
    "                except:\n",
    "                    base_len = np.sqrt((self.local_stream[1][self.arg]- self.local_stream[1][self.arg+1])**2+ \\\n",
    "                                       (self.local_stream[0][self.arg]- self.local_stream[0][self.arg+1])**2)\n",
    "                \n",
    "                # Generate the velocity and the step length\n",
    "                self.vy= (stream_now[1][tar_arg]- self.y) / np.sqrt((stream_now[1][tar_arg]- self.y)**2 +(stream_now[0][tar_arg]- self.x)**2 )\n",
    "                self.vx= (stream_now[0][tar_arg]- self.x) / np.sqrt((stream_now[1][tar_arg]- self.y)**2 +(stream_now[0][tar_arg]- self.x)**2 )\n",
    "                #self.step_length = 0.2*(np.sqrt((stream_now[1][tar_arg]- self.y)**2+(stream_now[0][tar_arg]- self.x) **2)) + minimum_stream_step*(1+random.random())/2 + np.abs(self.y)/2000\n",
    "                self.step_length = 0.2*base_len  \\\n",
    "                            +0.2*(np.sqrt((stream_now[1][tar_arg]- self.y)**2+(stream_now[0][tar_arg]- self.x) **2)) \\\n",
    "                            + minimum_stream_step*(1+random.random())/2 \\\n",
    "                            + np.abs(self.y)/2000\n",
    "            else : # if it has gone below the 0 (anode position threshold), it will move exactly along the streamline\n",
    "                # it will move along the trajectory\n",
    "                try : \n",
    "                    self.vy= (self.local_stream[1][self.arg]-self.y)/np.sqrt((self.local_stream[1][self.arg]-self.y)**2 + (self.local_stream[0][self.arg]-self.x)**2 )\n",
    "                    self.vx= (self.local_stream[0][self.arg]-self.x)/np.sqrt((self.local_stream[1][self.arg]-self.y)**2 + (self.local_stream[0][self.arg]-self.x)**2 )\n",
    "                    self.step_length= np.sqrt((self.local_stream[1][self.arg]-self.y)**2 + (self.local_stream[0][self.arg]-self.x)**2 )\n",
    "                    # move to the following point\n",
    "                    self.arg= self.arg+1\n",
    "                except :\n",
    "                    self.vx = -self.Ex / np.sqrt(self.Ex**2 + self.Ey**2)\n",
    "                    self.vy = -self.Ey / np.sqrt(self.Ex**2 + self.Ey**2)\n",
    "                    self.step_length= np.abs(self.y)/2000 + minimum_step\n",
    "        else : \n",
    "            self.stream_within=0\n",
    "            if self.y>4*self.parameter_get(\"anode_radius\"):\n",
    "                if self.Ex==0  :\n",
    "                    self.vy= -np.sign(self.y)\n",
    "                    self.vx= 0 \n",
    "                elif self.Ey==0 : \n",
    "                    self.vy= 0\n",
    "                    self.vx= -np.sign(self.x- self.info[0].max()/2)\n",
    "                else : \n",
    "                    self.vx = -self.Ex / np.sqrt(self.Ex**2 + self.Ey**2)\n",
    "                    self.vy = -self.Ey / np.sqrt(self.Ex**2 + self.Ey**2)\n",
    "                self.step_length= np.abs(self.y)/2000 + minimum_step\n",
    "            else : \n",
    "                self.vx = -self.Ex / np.sqrt(self.Ex**2 + self.Ey**2)\n",
    "                self.vy = -self.Ey / np.sqrt(self.Ex**2 + self.Ey**2)\n",
    "                self.step_length= np.abs(self.y)/2000 + minimum_step      \n",
    "    \n",
    "    def get_electric(self):\n",
    "        err = (self.info[0]-self.x)**2 + (self.info[1]-self.y)**2 \n",
    "        near_arg = err.argmin()\n",
    "        # Get the electric field\n",
    "        self.Ey= numpy.nan_to_num(self.info[3])[near_arg]\n",
    "        self.Ex= numpy.nan_to_num(self.info[2])[near_arg]\n",
    "        \n",
    "    \n",
    "    def renew_status(self):\n",
    "        self.status=\"X:{} Y:{} Ex:{} Ey:{} vx:{} vy:{} Multiply:{} Electron:{} Stream:{} Step:{} Within:{}\" \\\n",
    "        .format(self.x,self.y,self.Ex,self.Ey,self.vx,self.vy, \\\n",
    "                self.multiply,self.electron_N,self.stream_N,self.step_count,self.stream_within)\n",
    "    \n",
    "    def report_status(self):\n",
    "        self.renew_status()\n",
    "        print(self.status)\n",
    "    \n",
    "    \n",
    "    def eff_E(self):\n",
    "        return np.sqrt((self.vx*self.Ex)**2 + (self.vy*self.Ey)**2)\n",
    "        #if self.stream_within==0 : \n",
    "        #    return np.sqrt((self.vx*self.Ex)**2 + (self.vy*self.Ey)**2)\n",
    "        #else : \n",
    "        #    return np.sqrt(self.Ex**2 + self.Ey**2)\n",
    "    \n",
    "    def photon_gain(self):\n",
    "        # According to paper shared about the S2 gain. \n",
    "        # The gain rate is three times higher than the original gain rate \n",
    "        # \\theta_3 2.26 \\times 10^{-2} ph/e/(kV/cm*um) = 2.26e-7 ph/e-/(V/m *um )\n",
    "        # \\theta_4 416 kV/cm \n",
    "        ph_threshold=4.16e7\n",
    "        ph_gain_factor=2.26e-7\n",
    "        eff_E = self.eff_E()\n",
    "        if eff_E > ph_threshold : \n",
    "            return ph_gain_factor*(eff_E-ph_threshold )\n",
    "        else : \n",
    "            return 0 \n",
    "        \n",
    "    def electron_gain(self):\n",
    "        # According to paper shared about the S2 gain\n",
    "        # \\theta_0 charge gain factor 1.46/ (um*e)\n",
    "        # \\theta_1 charge gain slope 2.98e7 V/m\n",
    "        # \\theta_2 charge gain threshold 7.5e7 V/m \n",
    "        charge_gain_factor = 1.46\n",
    "        charge_gain_slope = 2.98e7\n",
    "        charge_gain_threshold = 7.5e7\n",
    "        eff_E = self.eff_E()\n",
    "        if eff_E > 1.01*charge_gain_threshold : \n",
    "            return charge_gain_factor*np.exp(- charge_gain_slope/( eff_E -charge_gain_threshold) )\n",
    "        else : \n",
    "            return 0\n",
    "    \n",
    "    def single_move(self):\n",
    "        # Get the basic parameters\n",
    "        self.get_electric()\n",
    "        self.get_direction_length()\n",
    "        photon_rate = self.photon_gain()\n",
    "        electron_rate = self.electron_gain()\n",
    "        # Single move\n",
    "        self.x = self.x + self.vx * self.step_length \n",
    "        self.y = self.y + self.vy * self.step_length \n",
    "        self.multiply = self.multiply +  np.random.poisson(self.electron_N*photon_rate * self.step_length )\n",
    "        self.electron_N = self.electron_N + np.random.poisson(self.electron_N*electron_rate * self.step_length)\n",
    "        # Log the process \n",
    "        self.sx = np.append(self.sx,self.x)\n",
    "        self.sy = np.append(self.sy,self.y)\n",
    "        self.sm = np.append(self.sm,self.multiply)\n",
    "        self.se = np.append(self.se,self.electron_N)\n",
    "        self.sEx= np.append(self.sEx,self.Ex)\n",
    "        self.sEy= np.append(self.sEy,self.Ey)\n",
    "        \n",
    "    def move(self):  \n",
    "        self.get_stream()\n",
    "        self.stream_check()\n",
    "        self.single_move()\n",
    "        while True:\n",
    "            self.step_count = self.step_count +1 \n",
    "            if self.check_stop()!=0:\n",
    "                break\n",
    "            elif self.step_count > 80000+ 5*len(self.local_stream[0]):\n",
    "                print(\"What happened??\")\n",
    "                break \n",
    "            else : \n",
    "                self.single_move()\n",
    "        self.renew_status()\n",
    "        return self.multiply                                 \n",
    "                 "
   ]
  },
  {
   "cell_type": "markdown",
   "id": "2dd4fac9-85c4-45ba-85b8-49e2d102a69d",
   "metadata": {
    "tags": []
   },
   "source": [
    "# Simulation "
   ]
  },
  {
   "cell_type": "code",
   "execution_count": 430,
   "id": "bbad3732-1559-43d6-bf5d-1f2ec3c6349a",
   "metadata": {},
   "outputs": [
    {
     "data": {
      "text/plain": [
       "{'up_radius': '5[um]',\n",
       " 'down_radius': '5[um]',\n",
       " 'anode_radius': '9.5[um]',\n",
       " 'up_distance': '3[mm]',\n",
       " 'down_distance': '3[mm]',\n",
       " 'vertical_distance': '3[mm]',\n",
       " 'up_stagger_distance': '0[mm]',\n",
       " 'down_stagger_distance': '0[mm]',\n",
       " 'drift_length': '40[mm]',\n",
       " 'number': '8',\n",
       " 'up_voltage': '0[V]',\n",
       " 'anode_voltage': '9400[V]',\n",
       " 'down_voltage': '0[V]',\n",
       " 'cathode_voltage': '100[V]',\n",
       " 'drift_ratio': '1',\n",
       " 'cathode_distance': '10[mm]',\n",
       " 'cathode_height': '1[mm]',\n",
       " 'length_u': 1,\n",
       " 'electric_x_u': '(V/m)',\n",
       " 'electric_y_u': '(V/m)',\n",
       " 'dimension': 2,\n",
       " 'stream_number': 801,\n",
       " 'minimum_step': '0.001[um]',\n",
       " 'minimum_stream_step': '0.001[um]'}"
      ]
     },
     "execution_count": 430,
     "metadata": {},
     "output_type": "execute_result"
    }
   ],
   "source": [
    "parameter"
   ]
  },
  {
   "cell_type": "code",
   "execution_count": 431,
   "id": "0d8ca7a4-a5a2-43c6-b16e-11ecb9bd980d",
   "metadata": {},
   "outputs": [],
   "source": [
    "#Multi Process Module\n",
    "class simul_process(Process):\n",
    "    def __init__(self,info,parameter,stream,q,number):\n",
    "        super(simul_process,self).__init__()\n",
    "        self.info=info\n",
    "        self.parameter=parameter\n",
    "        self.stream=stream\n",
    "        self.number=number\n",
    "    def run(self):\n",
    "        pid= os.getpid()\n",
    "        for i in range(self.number):\n",
    "            self.electron=single_electron(self.info,self.parameter,self.stream)\n",
    "            self.electron.move()\n",
    "            q.put(\"{}:{}\".format(pid,self.electron.status))"
   ]
  },
  {
   "cell_type": "code",
   "execution_count": 432,
   "id": "90cd6cfd-be15-4b53-bad8-30fd5e47072c",
   "metadata": {},
   "outputs": [],
   "source": [
    "q=Queue()\n",
    "process_number=100\n",
    "single_simul_number=30\n",
    "\n",
    "process_list=[]\n",
    "for i in range(process_number):\n",
    "    time.sleep(0.05)\n",
    "    p= simul_process(info,parameter,stream,q,single_simul_number)\n",
    "    p.start()\n",
    "    process_list.append(p)"
   ]
  },
  {
   "cell_type": "code",
   "execution_count": 433,
   "id": "6eadf6b6-911a-4833-b778-f47f909bb8f4",
   "metadata": {},
   "outputs": [],
   "source": [
    "# Back up Field files\n",
    "name=time.time()\n",
    "tar_dir=\"anode_voltage\"\n",
    "\n",
    "import os \n",
    "import shutil\n",
    "os.mkdir(\"{}/backup/{}\".format(tar_dir,name))\n",
    "dep_list=[\"parameter.txt\",\"singlecell4.h5\",\"singlecell_stream.h5\"]\n",
    "for i in dep_list:\n",
    "    shutil.copy(\"{}\".format(i),\"{}/backup/{}/{}\".format(tar_dir,name,i))"
   ]
  },
  {
   "cell_type": "code",
   "execution_count": null,
   "id": "c1157d9e-ada1-49cd-8f99-3c5aade77fc1",
   "metadata": {},
   "outputs": [
    {
     "name": "stderr",
     "output_type": "stream",
     "text": [
      " 33%|████████████████████████▏                                                 | 983/3000 [12:06<35:09,  1.05s/it]"
     ]
    }
   ],
   "source": [
    "from tqdm import trange\n",
    "from tqdm import tqdm \n",
    "information_list=[]\n",
    "for i in trange(process_number*single_simul_number):\n",
    "    information_list.append(q.get())"
   ]
  },
  {
   "cell_type": "code",
   "execution_count": null,
   "id": "a0976ba9-4db5-428b-8ca4-744f3a2fb46b",
   "metadata": {},
   "outputs": [],
   "source": [
    "len(information_list)"
   ]
  },
  {
   "cell_type": "code",
   "execution_count": null,
   "id": "1736f1d4-b0a1-47ec-93f4-1f883535827e",
   "metadata": {},
   "outputs": [],
   "source": [
    "import numpy as np\n",
    "np.where(np.arange(8)<3)[0].min()"
   ]
  },
  {
   "cell_type": "markdown",
   "id": "28e59921-347a-4b81-90c1-8ea224674528",
   "metadata": {},
   "source": [
    "## Save simulation result"
   ]
  },
  {
   "cell_type": "code",
   "execution_count": null,
   "id": "31c6cbe6-780f-46eb-a7af-8970198e8583",
   "metadata": {},
   "outputs": [],
   "source": [
    "with open(\"{}/information{}.txt\".format(tar_dir,time.time()),\"w\") as f:\n",
    "    f.write(\"{}\\n\".format(str(parameter)))\n",
    "    for i in information_list:\n",
    "        f.write(\"{}\\n\".format(i))"
   ]
  },
  {
   "cell_type": "markdown",
   "id": "cfca183c-02ab-4cee-a446-702fb87bf679",
   "metadata": {},
   "source": [
    "# Simulate a single Electron"
   ]
  },
  {
   "cell_type": "code",
   "execution_count": null,
   "id": "ededf27f-afa1-4cae-982d-862ab0eedb16",
   "metadata": {},
   "outputs": [],
   "source": [
    "single=single_electron(info,parameter,stream)\n",
    "single.get_stream()\n",
    "single.stream_check()\n",
    "single.get_electric()\n",
    "single.get_direction_length()\n",
    "single.single_move()\n",
    "single.move()\n",
    "single.report_status()\n",
    "print(single.arg)"
   ]
  },
  {
   "cell_type": "code",
   "execution_count": null,
   "id": "86bd262c-c837-4bd0-a759-3dbadc62829f",
   "metadata": {},
   "outputs": [],
   "source": [
    "plt.plot(single.local_stream[0],single.local_stream[1])\n",
    "plt.show()"
   ]
  },
  {
   "cell_type": "markdown",
   "id": "fcdb80c0-c0f2-4972-a732-b84ee9cdb5d6",
   "metadata": {},
   "source": [
    "### Plot example electron"
   ]
  },
  {
   "cell_type": "code",
   "execution_count": null,
   "id": "acb472ce-7adb-4d9e-81ce-11714477f46d",
   "metadata": {},
   "outputs": [],
   "source": [
    "plt.figure(dpi=300,figsize=(12,12))\n",
    "plt.suptitle(\"Example electron\")\n",
    "plt.subplot(2,2,1)\n",
    "plt.title(\"Electron Trajectory\")\n",
    "plt.xlabel(\"x/um\")\n",
    "plt.ylabel(\"y/um\")\n",
    "plt.plot(single.sx,single.sy)\n",
    "\n",
    "plt.subplot(2,2,2)\n",
    "plt.title(\"Photon Gain along trajectory\")\n",
    "plt.xlabel(\"y/um\")\n",
    "plt.ylabel(\"Photon Gain/ph\")\n",
    "plt.plot(single.sy,single.sm)\n",
    "\n",
    "plt.subplot(2,2,3)\n",
    "plt.title(\"Electron Gain along trajectory\")\n",
    "plt.xlabel(\"y/um\")\n",
    "plt.ylabel(\"Electron Gain/e\")\n",
    "plt.plot(single.sy,single.se)\n",
    "\n",
    "plt.subplot(2,2,4)\n",
    "plt.title(\"Electric Field Along trajectory\")\n",
    "plt.xlabel(\"y/um\")\n",
    "plt.ylabel(\"Electric Field Ey\")\n",
    "plt.plot(single.sy,single.sEy)\n",
    "\n",
    "plt.show()"
   ]
  },
  {
   "cell_type": "code",
   "execution_count": null,
   "id": "1517a4c1-1b54-4c1a-913b-8617eec8116a",
   "metadata": {},
   "outputs": [],
   "source": []
  },
  {
   "cell_type": "code",
   "execution_count": null,
   "id": "a79f1b38-4aa7-4166-b862-725c544ffc71",
   "metadata": {},
   "outputs": [],
   "source": []
  },
  {
   "cell_type": "code",
   "execution_count": null,
   "id": "d1568af6-4f5e-4888-9108-fc74baac5eda",
   "metadata": {},
   "outputs": [],
   "source": []
  }
 ],
 "metadata": {
  "kernelspec": {
   "display_name": "Python 3 (ipykernel)",
   "language": "python",
   "name": "python3"
  },
  "language_info": {
   "codemirror_mode": {
    "name": "ipython",
    "version": 3
   },
   "file_extension": ".py",
   "mimetype": "text/x-python",
   "name": "python",
   "nbconvert_exporter": "python",
   "pygments_lexer": "ipython3",
   "version": "3.10.6"
  }
 },
 "nbformat": 4,
 "nbformat_minor": 5
}
